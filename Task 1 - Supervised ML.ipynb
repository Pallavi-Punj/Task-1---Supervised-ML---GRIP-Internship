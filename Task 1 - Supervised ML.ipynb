{
 "cells": [
  {
   "cell_type": "markdown",
   "id": "2aca0608",
   "metadata": {},
   "source": [
    "# The Sparks Foundation: Data Science and Business Analytics Internship"
   ]
  },
  {
   "cell_type": "markdown",
   "id": "325c52ba",
   "metadata": {},
   "source": [
    "## Task 1 - Prediction Using Supervised ML\n",
    "### Linear Regression\n",
    "#### For this task, we will use a simple linear regression using only two variables\n",
    "Linear relationship can be described with following equation.\n",
    "$$Y = mX + c $$\n",
    "\n",
    "Here, Y is the dependent variable we are trying to predict.\n",
    "\n",
    "X is the independent variable we are using to make predictions.\n",
    "\n",
    "m is the slop of the regression line which represents the effect X has on Y\n",
    "\n",
    "c is a constant, known as the Y-intercept. If X = 0,Y would be equal to c."
   ]
  },
  {
   "cell_type": "markdown",
   "id": "43b7a273",
   "metadata": {},
   "source": [
    "### Steps to solve this problem:\n",
    "1) Reviewing the data and checking for gaps\n",
    "\n",
    "2) Analysing the data\n",
    "\n",
    "3) Preparing the data\n",
    "\n",
    "4) Visualing the data\n",
    "\n",
    "5) Making predications on the data\n",
    "\n",
    "6) Evaluting the accuracy of the model"
   ]
  },
  {
   "cell_type": "markdown",
   "id": "e89bb2ce",
   "metadata": {},
   "source": [
    "### Dataset - http://bit.ly/w-data"
   ]
  },
  {
   "cell_type": "code",
   "execution_count": 1,
   "id": "19a8e39c",
   "metadata": {},
   "outputs": [],
   "source": [
    "# Importing important libraries:\n",
    "import numpy as np\n",
    "import pandas as pd\n",
    "from sklearn.model_selection import train_test_split\n",
    "from sklearn.linear_model import LinearRegression\n",
    "import matplotlib.pyplot as plt\n",
    "%matplotlib inline"
   ]
  },
  {
   "cell_type": "code",
   "execution_count": 4,
   "id": "65155b78",
   "metadata": {},
   "outputs": [],
   "source": [
    "scores_data = pd.read_csv(r\"http://bit.ly/w-data\")"
   ]
  },
  {
   "cell_type": "code",
   "execution_count": 13,
   "id": "6bbe157c",
   "metadata": {},
   "outputs": [
    {
     "data": {
      "text/html": [
       "<div>\n",
       "<style scoped>\n",
       "    .dataframe tbody tr th:only-of-type {\n",
       "        vertical-align: middle;\n",
       "    }\n",
       "\n",
       "    .dataframe tbody tr th {\n",
       "        vertical-align: top;\n",
       "    }\n",
       "\n",
       "    .dataframe thead th {\n",
       "        text-align: right;\n",
       "    }\n",
       "</style>\n",
       "<table border=\"1\" class=\"dataframe\">\n",
       "  <thead>\n",
       "    <tr style=\"text-align: right;\">\n",
       "      <th></th>\n",
       "      <th>Hours</th>\n",
       "      <th>Scores</th>\n",
       "    </tr>\n",
       "  </thead>\n",
       "  <tbody>\n",
       "    <tr>\n",
       "      <th>0</th>\n",
       "      <td>2.5</td>\n",
       "      <td>21</td>\n",
       "    </tr>\n",
       "    <tr>\n",
       "      <th>1</th>\n",
       "      <td>5.1</td>\n",
       "      <td>47</td>\n",
       "    </tr>\n",
       "    <tr>\n",
       "      <th>2</th>\n",
       "      <td>3.2</td>\n",
       "      <td>27</td>\n",
       "    </tr>\n",
       "    <tr>\n",
       "      <th>3</th>\n",
       "      <td>8.5</td>\n",
       "      <td>75</td>\n",
       "    </tr>\n",
       "    <tr>\n",
       "      <th>4</th>\n",
       "      <td>3.5</td>\n",
       "      <td>30</td>\n",
       "    </tr>\n",
       "    <tr>\n",
       "      <th>5</th>\n",
       "      <td>1.5</td>\n",
       "      <td>20</td>\n",
       "    </tr>\n",
       "    <tr>\n",
       "      <th>6</th>\n",
       "      <td>9.2</td>\n",
       "      <td>88</td>\n",
       "    </tr>\n",
       "    <tr>\n",
       "      <th>7</th>\n",
       "      <td>5.5</td>\n",
       "      <td>60</td>\n",
       "    </tr>\n",
       "    <tr>\n",
       "      <th>8</th>\n",
       "      <td>8.3</td>\n",
       "      <td>81</td>\n",
       "    </tr>\n",
       "    <tr>\n",
       "      <th>9</th>\n",
       "      <td>2.7</td>\n",
       "      <td>25</td>\n",
       "    </tr>\n",
       "  </tbody>\n",
       "</table>\n",
       "</div>"
      ],
      "text/plain": [
       "   Hours  Scores\n",
       "0    2.5      21\n",
       "1    5.1      47\n",
       "2    3.2      27\n",
       "3    8.5      75\n",
       "4    3.5      30\n",
       "5    1.5      20\n",
       "6    9.2      88\n",
       "7    5.5      60\n",
       "8    8.3      81\n",
       "9    2.7      25"
      ]
     },
     "execution_count": 13,
     "metadata": {},
     "output_type": "execute_result"
    }
   ],
   "source": [
    "scores_data.head(10)"
   ]
  },
  {
   "cell_type": "code",
   "execution_count": 14,
   "id": "d248b8b0",
   "metadata": {},
   "outputs": [
    {
     "name": "stdout",
     "output_type": "stream",
     "text": [
      "<class 'pandas.core.frame.DataFrame'>\n",
      "RangeIndex: 25 entries, 0 to 24\n",
      "Data columns (total 2 columns):\n",
      " #   Column  Non-Null Count  Dtype  \n",
      "---  ------  --------------  -----  \n",
      " 0   Hours   25 non-null     float64\n",
      " 1   Scores  25 non-null     int64  \n",
      "dtypes: float64(1), int64(1)\n",
      "memory usage: 528.0 bytes\n",
      "None\n",
      "\n",
      "----------------------\n",
      "Missing values:  Hours     0\n",
      "Scores    0\n",
      "dtype: int64\n"
     ]
    }
   ],
   "source": [
    "# checking if data set have any Missing values.\n",
    "print(scores_data.info())\n",
    "print(\"\\n----------------------\")\n",
    "print(\"Missing values: \", scores_data.isna().sum())"
   ]
  },
  {
   "cell_type": "markdown",
   "id": "5fe542a3",
   "metadata": {},
   "source": [
    "As we can see, it is suggested above to have values at 0 hours and 0 score. However, the dataset is small and our task is simple, so we don't need to include these values."
   ]
  },
  {
   "cell_type": "markdown",
   "id": "2be908d9",
   "metadata": {},
   "source": [
    "### Understanding the correlation between the data given"
   ]
  },
  {
   "cell_type": "code",
   "execution_count": 16,
   "id": "869e5dac",
   "metadata": {},
   "outputs": [
    {
     "name": "stdout",
     "output_type": "stream",
     "text": [
      "Correlation between hours and score:            Hours    Scores\n",
      "Hours   1.000000  0.976191\n",
      "Scores  0.976191  1.000000\n"
     ]
    }
   ],
   "source": [
    "print('Correlation between hours and score:',scores_data.corr())"
   ]
  },
  {
   "cell_type": "markdown",
   "id": "3cf849b5",
   "metadata": {},
   "source": [
    "As we can see, there is a strong correlation between the hours a student studies and their scores.\n",
    "\n",
    "Let us plot our data and see this correlation graphically."
   ]
  },
  {
   "cell_type": "code",
   "execution_count": 42,
   "id": "bf5bf054",
   "metadata": {},
   "outputs": [
    {
     "data": {
      "image/png": "[encoded data removed]",
      "text/plain": [
       "<Figure size 432x288 with 1 Axes>"
      ]
     },
     "metadata": {
      "needs_background": "light"
     },
     "output_type": "display_data"
    }
   ],
   "source": [
    "# Plotting the distribution of scores\n",
    "scores_data.plot(x='Hours', y='Scores', style='o')\n",
    "plt.plot(X, line);\n",
    "plt.title('Hours vs Percentage')  \n",
    "plt.xlabel('Hours Studied')  \n",
    "plt.ylabel('Percentage Score')\n",
    "plt.show()"
   ]
  },
  {
   "cell_type": "markdown",
   "id": "d04fd6fb",
   "metadata": {},
   "source": [
    "The graph is in aggrement with our above statement."
   ]
  },
  {
   "cell_type": "markdown",
   "id": "2ad6023e",
   "metadata": {},
   "source": [
    "### Preparing the data into attributes and lables"
   ]
  },
  {
   "cell_type": "code",
   "execution_count": 23,
   "id": "5316bcbc",
   "metadata": {},
   "outputs": [],
   "source": [
    "x = scores_data.iloc[:, :-1].values  \n",
    "y = scores_data.iloc[:, 1].values  "
   ]
  },
  {
   "cell_type": "code",
   "execution_count": 24,
   "id": "a0b19443",
   "metadata": {},
   "outputs": [],
   "source": [
    "# Train and test random classification\n",
    "x_train, x_test, y_train, y_test = train_test_split(X,y, test_size=0.30, random_state=0)"
   ]
  },
  {
   "cell_type": "markdown",
   "id": "4c11c8b5",
   "metadata": {},
   "source": [
    "### Training the data to the Linear Regression Model"
   ]
  },
  {
   "cell_type": "code",
   "execution_count": 30,
   "id": "c57f1b70",
   "metadata": {},
   "outputs": [
    {
     "data": {
      "text/plain": [
       "LinearRegression()"
      ]
     },
     "execution_count": 30,
     "metadata": {},
     "output_type": "execute_result"
    }
   ],
   "source": [
    "#Applying Machine Learning model\n",
    "linear_model=LinearRegression()\n",
    "linear_model.fit(x_train, y_train)"
   ]
  },
  {
   "cell_type": "code",
   "execution_count": 27,
   "id": "219aa1ce",
   "metadata": {},
   "outputs": [
    {
     "name": "stdout",
     "output_type": "stream",
     "text": [
      "The coefficient is  9.788566686749046\n",
      "The Intercept is  2.370815382341881\n"
     ]
    }
   ],
   "source": [
    "print('The coefficient is ', linear_model.coef_[0])\n",
    "print('The intercept is ', linear_model.intercept_)"
   ]
  },
  {
   "cell_type": "code",
   "execution_count": 31,
   "id": "68dae3df",
   "metadata": {},
   "outputs": [],
   "source": [
    "#Predicting using test set\n",
    "y_pred=linear_model.predict(x_test)"
   ]
  },
  {
   "cell_type": "markdown",
   "id": "aa5d963b",
   "metadata": {},
   "source": [
    "### Plotting and Visualising the data"
   ]
  },
  {
   "cell_type": "code",
   "execution_count": 28,
   "id": "3c0d53ed",
   "metadata": {},
   "outputs": [
    {
     "data": {
      "image/png": "[encoded data removed]",
      "text/plain": [
       "<Figure size 432x288 with 1 Axes>"
      ]
     },
     "metadata": {
      "needs_background": "light"
     },
     "output_type": "display_data"
    }
   ],
   "source": [
    "# Plotting the regression line\n",
    "line = linear_model.coef_*X+linear_model.intercept_\n",
    "\n",
    "# Plotting for the test data\n",
    "plt.scatter(X, y)\n",
    "plt.plot(X, line);\n",
    "plt.show()"
   ]
  },
  {
   "cell_type": "markdown",
   "id": "4359442a",
   "metadata": {},
   "source": [
    "### Making predications on the data"
   ]
  },
  {
   "cell_type": "code",
   "execution_count": 35,
   "id": "17825b3b",
   "metadata": {},
   "outputs": [
    {
     "data": {
      "text/html": [
       "<div>\n",
       "<style scoped>\n",
       "    .dataframe tbody tr th:only-of-type {\n",
       "        vertical-align: middle;\n",
       "    }\n",
       "\n",
       "    .dataframe tbody tr th {\n",
       "        vertical-align: top;\n",
       "    }\n",
       "\n",
       "    .dataframe thead th {\n",
       "        text-align: right;\n",
       "    }\n",
       "</style>\n",
       "<table border=\"1\" class=\"dataframe\">\n",
       "  <thead>\n",
       "    <tr style=\"text-align: right;\">\n",
       "      <th></th>\n",
       "      <th>Actual</th>\n",
       "      <th>Predicted</th>\n",
       "    </tr>\n",
       "  </thead>\n",
       "  <tbody>\n",
       "    <tr>\n",
       "      <th>0</th>\n",
       "      <td>20</td>\n",
       "      <td>17.053665</td>\n",
       "    </tr>\n",
       "    <tr>\n",
       "      <th>1</th>\n",
       "      <td>27</td>\n",
       "      <td>33.694229</td>\n",
       "    </tr>\n",
       "    <tr>\n",
       "      <th>2</th>\n",
       "      <td>69</td>\n",
       "      <td>74.806209</td>\n",
       "    </tr>\n",
       "    <tr>\n",
       "      <th>3</th>\n",
       "      <td>30</td>\n",
       "      <td>26.842232</td>\n",
       "    </tr>\n",
       "    <tr>\n",
       "      <th>4</th>\n",
       "      <td>62</td>\n",
       "      <td>60.123359</td>\n",
       "    </tr>\n",
       "    <tr>\n",
       "      <th>5</th>\n",
       "      <td>35</td>\n",
       "      <td>39.567369</td>\n",
       "    </tr>\n",
       "    <tr>\n",
       "      <th>6</th>\n",
       "      <td>24</td>\n",
       "      <td>20.969092</td>\n",
       "    </tr>\n",
       "    <tr>\n",
       "      <th>7</th>\n",
       "      <td>86</td>\n",
       "      <td>78.721636</td>\n",
       "    </tr>\n",
       "  </tbody>\n",
       "</table>\n",
       "</div>"
      ],
      "text/plain": [
       "   Actual  Predicted\n",
       "0      20  17.053665\n",
       "1      27  33.694229\n",
       "2      69  74.806209\n",
       "3      30  26.842232\n",
       "4      62  60.123359\n",
       "5      35  39.567369\n",
       "6      24  20.969092\n",
       "7      86  78.721636"
      ]
     },
     "execution_count": 35,
     "metadata": {},
     "output_type": "execute_result"
    }
   ],
   "source": [
    "# Comparing Actual vs Predicted values\n",
    "drama_frame = pd.DataFrame({'Actual': y_test, 'Predicted': y_pred})  \n",
    "drama_frame"
   ]
  },
  {
   "cell_type": "code",
   "execution_count": 45,
   "id": "98dd0ae2",
   "metadata": {},
   "outputs": [
    {
     "data": {
      "text/plain": [
       "<matplotlib.collections.PathCollection at 0x25f4e5acc10>"
      ]
     },
     "execution_count": 45,
     "metadata": {},
     "output_type": "execute_result"
    },
    {
     "data": {
      "image/png": "[encoded data removed]",
      "text/plain": [
       "<Figure size 432x288 with 1 Axes>"
      ]
     },
     "metadata": {
      "needs_background": "light"
     },
     "output_type": "display_data"
    }
   ],
   "source": [
    "plt.scatter(y_test, y_pred)"
   ]
  },
  {
   "cell_type": "markdown",
   "id": "0753cac1",
   "metadata": {},
   "source": [
    "This graph shows the variation in the predicted and actual scores."
   ]
  },
  {
   "cell_type": "code",
   "execution_count": 40,
   "id": "09d6d2b4",
   "metadata": {},
   "outputs": [
    {
     "name": "stdout",
     "output_type": "stream",
     "text": [
      "No of Hours =  9.25\n",
      "Predicted Score =  [92.91505723]\n"
     ]
    }
   ],
   "source": [
    "# testing with our own inputs\n",
    "hours = 9.25\n",
    "own_prediction = linear_model.predict(np.array([[hours]]))\n",
    "print(\"No of Hours = \",hours)\n",
    "print(\"Predicted Score = \", own_prediction)"
   ]
  },
  {
   "cell_type": "markdown",
   "id": "37ea2a78",
   "metadata": {},
   "source": [
    "### Evaluating the Model"
   ]
  },
  {
   "cell_type": "code",
   "execution_count": 41,
   "id": "1cc9ca73",
   "metadata": {},
   "outputs": [
    {
     "name": "stdout",
     "output_type": "stream",
     "text": [
      "mean square error: 22.96509721270043\n",
      "r2_score:  0.9568211104435257\n"
     ]
    }
   ],
   "source": [
    "#checking Performance of model\n",
    "from sklearn.metrics import mean_squared_error, r2_score\n",
    "print('mean square error:', mean_squared_error(y_test, y_pred))\n",
    "print('r2_score: ', r2_score(y_test,y_pred))"
   ]
  },
  {
   "cell_type": "markdown",
   "id": "57496976",
   "metadata": {},
   "source": [
    "Hence, the above model is 95.6% accurate"
   ]
  },
  {
   "cell_type": "code",
   "execution_count": null,
   "id": "952188f1",
   "metadata": {},
   "outputs": [],
   "source": []
  }
 ],
 "metadata": {
  "kernelspec": {
   "display_name": "Python 3",
   "language": "python",
   "name": "python3"
  },
  "language_info": {
   "codemirror_mode": {
    "name": "ipython",
    "version": 3
   },
   "file_extension": ".py",
   "mimetype": "text/x-python",
   "name": "python",
   "nbconvert_exporter": "python",
   "pygments_lexer": "ipython3",
   "version": "3.8.8"
  }
 },
 "nbformat": 4,
 "nbformat_minor": 5
}
